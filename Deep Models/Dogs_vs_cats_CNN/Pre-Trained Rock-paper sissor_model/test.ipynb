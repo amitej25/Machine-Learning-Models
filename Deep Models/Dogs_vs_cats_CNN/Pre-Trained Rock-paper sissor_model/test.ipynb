{
 "cells": [
  {
   "cell_type": "code",
   "execution_count": null,
   "metadata": {},
   "outputs": [],
   "source": [
    "from PIL import Image\n",
    "class Mnist():\n",
    "    key_file = {'test_image':  'Mnist\\\\t10k-images-idx3-ubyte (1).gz',\n",
    "            'test_label':   'Mnist\\\\t10k-labels-idx1-ubyte (1).gz'}\n",
    "\n",
    "    image_size = 28*28\n",
    "    model_name = 'sample_weight.pkl'\n",
    "    image_path = \"C:/Users/amite/Downloads/4.png\"\n",
    "\n",
    "\n",
    "    def load_images(path):\n",
    "            test_image_0 = Image.open(path).convert(\"L\")\n",
    "            images0 = np.array(test_image_0)\n",
    "            images0 = images0.reshape(-1,image_size )\n",
    "            return images0\n",
    "    \n",
    "\n",
    "    def sigmoid(x):\n",
    "           return 1/(1+np.exp(-x))\n",
    "    \n",
    "\n",
    "    def softmax(x):\n",
    "            c= np.max(a)\n",
    "            a = np.exp(a-c)\n",
    "            s= np.sum(a)\n",
    "            y = a/s\n",
    "\n",
    "            return y\n",
    "           \n",
    "    \n",
    "\n",
    "    def predict(network, x):\n",
    "            \n",
    "            w1, w2, w3 = network['W1'], network['W2'], network['W3']\n",
    "            b1, b2, b3 = network['b1'], network['b2'], network['b3']\n",
    "\n",
    "            a1 = np.dot(x, w1) + b1\n",
    "            z1 = sigmoid(a1)\n",
    "\n",
    "            a2 = np.dot(z1, w2) + b2\n",
    "            z2 = sigmoid(a2)\n",
    "\n",
    "            a3 = np.dot(z2, w3) + b3\n",
    "\n",
    "            y= softmax(a3)\n",
    "\n",
    "            return y\n",
    "    \n",
    "       \n",
    "   \n",
    "\n",
    "\n"
   ]
  }
 ],
 "metadata": {
  "kernelspec": {
   "display_name": "base",
   "language": "python",
   "name": "python3"
  },
  "language_info": {
   "name": "python",
   "version": "3.9.17"
  }
 },
 "nbformat": 4,
 "nbformat_minor": 2
}
