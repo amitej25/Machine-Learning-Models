{
 "cells": [
  {
   "cell_type": "markdown",
   "metadata": {},
   "source": [
    "## Logistic regression"
   ]
  },
  {
   "cell_type": "code",
   "execution_count": 2,
   "metadata": {},
   "outputs": [],
   "source": [
    "import pandas as pd\n",
    "import numpy as np\n",
    "import matplotlib.pyplot as plt\n",
    "import statsmodels.api as sm\n",
    "import statsmodels.formula.api as smf\n",
    "import seaborn as sns"
   ]
  },
  {
   "cell_type": "code",
   "execution_count": 52,
   "metadata": {},
   "outputs": [
    {
     "data": {
      "text/html": [
       "<div>\n",
       "<style scoped>\n",
       "    .dataframe tbody tr th:only-of-type {\n",
       "        vertical-align: middle;\n",
       "    }\n",
       "\n",
       "    .dataframe tbody tr th {\n",
       "        vertical-align: top;\n",
       "    }\n",
       "\n",
       "    .dataframe thead th {\n",
       "        text-align: right;\n",
       "    }\n",
       "</style>\n",
       "<table border=\"1\" class=\"dataframe\">\n",
       "  <thead>\n",
       "    <tr style=\"text-align: right;\">\n",
       "      <th></th>\n",
       "      <th>MinTemp</th>\n",
       "      <th>MaxTemp</th>\n",
       "      <th>Rainfall</th>\n",
       "      <th>WindGustSpeed</th>\n",
       "      <th>WindSpeed9am</th>\n",
       "      <th>WindSpeed3pm</th>\n",
       "      <th>Humidity9am</th>\n",
       "      <th>Humidity3pm</th>\n",
       "      <th>Pressure9am</th>\n",
       "      <th>Pressure3pm</th>\n",
       "      <th>Temp9am</th>\n",
       "      <th>Temp3pm</th>\n",
       "      <th>RISK_MM</th>\n",
       "    </tr>\n",
       "  </thead>\n",
       "  <tbody>\n",
       "    <tr>\n",
       "      <th>count</th>\n",
       "      <td>141556.000000</td>\n",
       "      <td>141871.000000</td>\n",
       "      <td>140787.000000</td>\n",
       "      <td>132923.000000</td>\n",
       "      <td>140845.000000</td>\n",
       "      <td>139563.000000</td>\n",
       "      <td>140419.000000</td>\n",
       "      <td>138583.000000</td>\n",
       "      <td>128179.000000</td>\n",
       "      <td>128212.000000</td>\n",
       "      <td>141289.000000</td>\n",
       "      <td>139467.000000</td>\n",
       "      <td>142193.000000</td>\n",
       "    </tr>\n",
       "    <tr>\n",
       "      <th>mean</th>\n",
       "      <td>12.186400</td>\n",
       "      <td>23.226784</td>\n",
       "      <td>2.349974</td>\n",
       "      <td>39.984292</td>\n",
       "      <td>14.001988</td>\n",
       "      <td>18.637576</td>\n",
       "      <td>68.843810</td>\n",
       "      <td>51.482606</td>\n",
       "      <td>1017.653758</td>\n",
       "      <td>1015.258204</td>\n",
       "      <td>16.987509</td>\n",
       "      <td>21.687235</td>\n",
       "      <td>2.360682</td>\n",
       "    </tr>\n",
       "    <tr>\n",
       "      <th>std</th>\n",
       "      <td>6.403283</td>\n",
       "      <td>7.117618</td>\n",
       "      <td>8.465173</td>\n",
       "      <td>13.588801</td>\n",
       "      <td>8.893337</td>\n",
       "      <td>8.803345</td>\n",
       "      <td>19.051293</td>\n",
       "      <td>20.797772</td>\n",
       "      <td>7.105476</td>\n",
       "      <td>7.036677</td>\n",
       "      <td>6.492838</td>\n",
       "      <td>6.937594</td>\n",
       "      <td>8.477969</td>\n",
       "    </tr>\n",
       "    <tr>\n",
       "      <th>min</th>\n",
       "      <td>-8.500000</td>\n",
       "      <td>-4.800000</td>\n",
       "      <td>0.000000</td>\n",
       "      <td>6.000000</td>\n",
       "      <td>0.000000</td>\n",
       "      <td>0.000000</td>\n",
       "      <td>0.000000</td>\n",
       "      <td>0.000000</td>\n",
       "      <td>980.500000</td>\n",
       "      <td>977.100000</td>\n",
       "      <td>-7.200000</td>\n",
       "      <td>-5.400000</td>\n",
       "      <td>0.000000</td>\n",
       "    </tr>\n",
       "    <tr>\n",
       "      <th>25%</th>\n",
       "      <td>7.600000</td>\n",
       "      <td>17.900000</td>\n",
       "      <td>0.000000</td>\n",
       "      <td>31.000000</td>\n",
       "      <td>7.000000</td>\n",
       "      <td>13.000000</td>\n",
       "      <td>57.000000</td>\n",
       "      <td>37.000000</td>\n",
       "      <td>1012.900000</td>\n",
       "      <td>1010.400000</td>\n",
       "      <td>12.300000</td>\n",
       "      <td>16.600000</td>\n",
       "      <td>0.000000</td>\n",
       "    </tr>\n",
       "    <tr>\n",
       "      <th>50%</th>\n",
       "      <td>12.000000</td>\n",
       "      <td>22.600000</td>\n",
       "      <td>0.000000</td>\n",
       "      <td>39.000000</td>\n",
       "      <td>13.000000</td>\n",
       "      <td>19.000000</td>\n",
       "      <td>70.000000</td>\n",
       "      <td>52.000000</td>\n",
       "      <td>1017.600000</td>\n",
       "      <td>1015.200000</td>\n",
       "      <td>16.700000</td>\n",
       "      <td>21.100000</td>\n",
       "      <td>0.000000</td>\n",
       "    </tr>\n",
       "    <tr>\n",
       "      <th>75%</th>\n",
       "      <td>16.800000</td>\n",
       "      <td>28.200000</td>\n",
       "      <td>0.800000</td>\n",
       "      <td>48.000000</td>\n",
       "      <td>19.000000</td>\n",
       "      <td>24.000000</td>\n",
       "      <td>83.000000</td>\n",
       "      <td>66.000000</td>\n",
       "      <td>1022.400000</td>\n",
       "      <td>1020.000000</td>\n",
       "      <td>21.600000</td>\n",
       "      <td>26.400000</td>\n",
       "      <td>0.800000</td>\n",
       "    </tr>\n",
       "    <tr>\n",
       "      <th>max</th>\n",
       "      <td>33.900000</td>\n",
       "      <td>48.100000</td>\n",
       "      <td>371.000000</td>\n",
       "      <td>135.000000</td>\n",
       "      <td>130.000000</td>\n",
       "      <td>87.000000</td>\n",
       "      <td>100.000000</td>\n",
       "      <td>100.000000</td>\n",
       "      <td>1041.000000</td>\n",
       "      <td>1039.600000</td>\n",
       "      <td>40.200000</td>\n",
       "      <td>46.700000</td>\n",
       "      <td>371.000000</td>\n",
       "    </tr>\n",
       "  </tbody>\n",
       "</table>\n",
       "</div>"
      ],
      "text/plain": [
       "             MinTemp        MaxTemp       Rainfall  WindGustSpeed  \\\n",
       "count  141556.000000  141871.000000  140787.000000  132923.000000   \n",
       "mean       12.186400      23.226784       2.349974      39.984292   \n",
       "std         6.403283       7.117618       8.465173      13.588801   \n",
       "min        -8.500000      -4.800000       0.000000       6.000000   \n",
       "25%         7.600000      17.900000       0.000000      31.000000   \n",
       "50%        12.000000      22.600000       0.000000      39.000000   \n",
       "75%        16.800000      28.200000       0.800000      48.000000   \n",
       "max        33.900000      48.100000     371.000000     135.000000   \n",
       "\n",
       "        WindSpeed9am   WindSpeed3pm    Humidity9am    Humidity3pm  \\\n",
       "count  140845.000000  139563.000000  140419.000000  138583.000000   \n",
       "mean       14.001988      18.637576      68.843810      51.482606   \n",
       "std         8.893337       8.803345      19.051293      20.797772   \n",
       "min         0.000000       0.000000       0.000000       0.000000   \n",
       "25%         7.000000      13.000000      57.000000      37.000000   \n",
       "50%        13.000000      19.000000      70.000000      52.000000   \n",
       "75%        19.000000      24.000000      83.000000      66.000000   \n",
       "max       130.000000      87.000000     100.000000     100.000000   \n",
       "\n",
       "         Pressure9am    Pressure3pm        Temp9am        Temp3pm  \\\n",
       "count  128179.000000  128212.000000  141289.000000  139467.000000   \n",
       "mean     1017.653758    1015.258204      16.987509      21.687235   \n",
       "std         7.105476       7.036677       6.492838       6.937594   \n",
       "min       980.500000     977.100000      -7.200000      -5.400000   \n",
       "25%      1012.900000    1010.400000      12.300000      16.600000   \n",
       "50%      1017.600000    1015.200000      16.700000      21.100000   \n",
       "75%      1022.400000    1020.000000      21.600000      26.400000   \n",
       "max      1041.000000    1039.600000      40.200000      46.700000   \n",
       "\n",
       "             RISK_MM  \n",
       "count  142193.000000  \n",
       "mean        2.360682  \n",
       "std         8.477969  \n",
       "min         0.000000  \n",
       "25%         0.000000  \n",
       "50%         0.000000  \n",
       "75%         0.800000  \n",
       "max       371.000000  "
      ]
     },
     "execution_count": 52,
     "metadata": {},
     "output_type": "execute_result"
    }
   ],
   "source": [
    "Data = pd.read_csv(r\"D:\\Multi-Variant\\Logistic regression\\weatherAUS.csv\")\n",
    "\n",
    "Data.describe()"
   ]
  },
  {
   "cell_type": "code",
   "execution_count": 53,
   "metadata": {},
   "outputs": [
    {
     "name": "stdout",
     "output_type": "stream",
     "text": [
      "<class 'pandas.core.frame.DataFrame'>\n",
      "RangeIndex: 142193 entries, 0 to 142192\n",
      "Data columns (total 14 columns):\n",
      " #   Column         Non-Null Count   Dtype  \n",
      "---  ------         --------------   -----  \n",
      " 0   MinTemp        141556 non-null  float64\n",
      " 1   MaxTemp        141871 non-null  float64\n",
      " 2   Rainfall       140787 non-null  float64\n",
      " 3   WindGustSpeed  132923 non-null  float64\n",
      " 4   WindSpeed9am   140845 non-null  float64\n",
      " 5   WindSpeed3pm   139563 non-null  float64\n",
      " 6   Humidity9am    140419 non-null  float64\n",
      " 7   Humidity3pm    138583 non-null  float64\n",
      " 8   Pressure9am    128179 non-null  float64\n",
      " 9   Pressure3pm    128212 non-null  float64\n",
      " 10  Temp9am        141289 non-null  float64\n",
      " 11  Temp3pm        139467 non-null  float64\n",
      " 12  RISK_MM        142193 non-null  float64\n",
      " 13  RainTomorrow   142193 non-null  object \n",
      "dtypes: float64(13), object(1)\n",
      "memory usage: 15.2+ MB\n"
     ]
    }
   ],
   "source": [
    "Data.info()"
   ]
  },
  {
   "cell_type": "markdown",
   "metadata": {},
   "source": [
    "#### Handling Missing data"
   ]
  },
  {
   "cell_type": "code",
   "execution_count": null,
   "metadata": {},
   "outputs": [],
   "source": [
    "# we can use ffill/bfill for forward fill or backward fill\n",
    "#data.ffill()\n",
    "#data.bfill()\n",
    "\n",
    "# 2. fill with mean\n",
    "# data.fillna(data.mean()[\"clm1\":'clm2])\n",
    "\n",
    "# 3. Interpolation\n",
    "# data.interpolation(method =  )\n",
    "\n",
    "# For now we are using ffill, we will try to look at different methods later to improve the model "
   ]
  },
  {
   "cell_type": "code",
   "execution_count": 54,
   "metadata": {},
   "outputs": [
    {
     "data": {
      "text/plain": [
       "MinTemp            637\n",
       "MaxTemp            322\n",
       "Rainfall          1406\n",
       "WindGustSpeed     9270\n",
       "WindSpeed9am      1348\n",
       "WindSpeed3pm      2630\n",
       "Humidity9am       1774\n",
       "Humidity3pm       3610\n",
       "Pressure9am      14014\n",
       "Pressure3pm      13981\n",
       "Temp9am            904\n",
       "Temp3pm           2726\n",
       "RISK_MM              0\n",
       "RainTomorrow         0\n",
       "dtype: int64"
      ]
     },
     "execution_count": 54,
     "metadata": {},
     "output_type": "execute_result"
    }
   ],
   "source": [
    "missing = Data.isnull() \n",
    "missing.sum()\n",
    "\n"
   ]
  },
  {
   "cell_type": "code",
   "execution_count": 55,
   "metadata": {},
   "outputs": [
    {
     "data": {
      "text/plain": [
       "[<matplotlib.lines.Line2D at 0x1e0400c1580>]"
      ]
     },
     "execution_count": 55,
     "metadata": {},
     "output_type": "execute_result"
    },
    {
     "data": {
      "image/png": "[encoded data removed]",
      "text/plain": [
       "<Figure size 640x480 with 1 Axes>"
      ]
     },
     "metadata": {},
     "output_type": "display_data"
    }
   ],
   "source": [
    "plt.plot(missing.sum())"
   ]
  },
  {
   "cell_type": "code",
   "execution_count": 56,
   "metadata": {},
   "outputs": [
    {
     "data": {
      "text/plain": [
       "<AxesSubplot:>"
      ]
     },
     "execution_count": 56,
     "metadata": {},
     "output_type": "execute_result"
    },
    {
     "data": {
      "image/png": "[encoded data removed]",
      "text/plain": [
       "<Figure size 640x480 with 1 Axes>"
      ]
     },
     "metadata": {},
     "output_type": "display_data"
    }
   ],
   "source": [
    "sns.heatmap(missing, cbar = False, cmap='viridis')\n"
   ]
  },
  {
   "cell_type": "code",
   "execution_count": 58,
   "metadata": {},
   "outputs": [],
   "source": [
    "Data = Data.ffill()"
   ]
  },
  {
   "cell_type": "code",
   "execution_count": 77,
   "metadata": {},
   "outputs": [
    {
     "name": "stdout",
     "output_type": "stream",
     "text": [
      "<class 'pandas.core.frame.DataFrame'>\n",
      "RangeIndex: 142193 entries, 0 to 142192\n",
      "Data columns (total 14 columns):\n",
      " #   Column         Non-Null Count   Dtype  \n",
      "---  ------         --------------   -----  \n",
      " 0   MinTemp        142193 non-null  float64\n",
      " 1   MaxTemp        142193 non-null  float64\n",
      " 2   Rainfall       142193 non-null  float64\n",
      " 3   WindGustSpeed  142193 non-null  float64\n",
      " 4   WindSpeed9am   142193 non-null  float64\n",
      " 5   WindSpeed3pm   142193 non-null  float64\n",
      " 6   Humidity9am    142193 non-null  float64\n",
      " 7   Humidity3pm    142193 non-null  float64\n",
      " 8   Pressure9am    142193 non-null  float64\n",
      " 9   Pressure3pm    142193 non-null  float64\n",
      " 10  Temp9am        142193 non-null  float64\n",
      " 11  Temp3pm        142193 non-null  float64\n",
      " 12  RISK_MM        142193 non-null  float64\n",
      " 13  RainTomorrow   142193 non-null  object \n",
      "dtypes: float64(13), object(1)\n",
      "memory usage: 15.2+ MB\n"
     ]
    }
   ],
   "source": [
    "Data.info()"
   ]
  },
  {
   "cell_type": "code",
   "execution_count": 70,
   "metadata": {},
   "outputs": [],
   "source": [
    "# Since we have model created features like rainfall and riskmm so we remove them and we will add a constant for b0"
   ]
  },
  {
   "cell_type": "code",
   "execution_count": 80,
   "metadata": {},
   "outputs": [
    {
     "data": {
      "text/html": [
       "<div>\n",
       "<style scoped>\n",
       "    .dataframe tbody tr th:only-of-type {\n",
       "        vertical-align: middle;\n",
       "    }\n",
       "\n",
       "    .dataframe tbody tr th {\n",
       "        vertical-align: top;\n",
       "    }\n",
       "\n",
       "    .dataframe thead th {\n",
       "        text-align: right;\n",
       "    }\n",
       "</style>\n",
       "<table border=\"1\" class=\"dataframe\">\n",
       "  <thead>\n",
       "    <tr style=\"text-align: right;\">\n",
       "      <th></th>\n",
       "      <th>MinTemp</th>\n",
       "      <th>MaxTemp</th>\n",
       "      <th>Rainfall</th>\n",
       "      <th>WindGustSpeed</th>\n",
       "      <th>WindSpeed9am</th>\n",
       "      <th>WindSpeed3pm</th>\n",
       "      <th>Humidity9am</th>\n",
       "      <th>Humidity3pm</th>\n",
       "      <th>Pressure9am</th>\n",
       "      <th>Pressure3pm</th>\n",
       "      <th>Temp9am</th>\n",
       "      <th>Temp3pm</th>\n",
       "      <th>RISK_MM</th>\n",
       "      <th>RainTomorrow</th>\n",
       "    </tr>\n",
       "  </thead>\n",
       "  <tbody>\n",
       "    <tr>\n",
       "      <th>0</th>\n",
       "      <td>13.4</td>\n",
       "      <td>22.9</td>\n",
       "      <td>0.6</td>\n",
       "      <td>44.0</td>\n",
       "      <td>20.0</td>\n",
       "      <td>24.0</td>\n",
       "      <td>71.0</td>\n",
       "      <td>22.0</td>\n",
       "      <td>1007.7</td>\n",
       "      <td>1007.1</td>\n",
       "      <td>16.9</td>\n",
       "      <td>21.8</td>\n",
       "      <td>0.0</td>\n",
       "      <td>No</td>\n",
       "    </tr>\n",
       "    <tr>\n",
       "      <th>1</th>\n",
       "      <td>7.4</td>\n",
       "      <td>25.1</td>\n",
       "      <td>0.0</td>\n",
       "      <td>44.0</td>\n",
       "      <td>4.0</td>\n",
       "      <td>22.0</td>\n",
       "      <td>44.0</td>\n",
       "      <td>25.0</td>\n",
       "      <td>1010.6</td>\n",
       "      <td>1007.8</td>\n",
       "      <td>17.2</td>\n",
       "      <td>24.3</td>\n",
       "      <td>0.0</td>\n",
       "      <td>No</td>\n",
       "    </tr>\n",
       "    <tr>\n",
       "      <th>2</th>\n",
       "      <td>12.9</td>\n",
       "      <td>25.7</td>\n",
       "      <td>0.0</td>\n",
       "      <td>46.0</td>\n",
       "      <td>19.0</td>\n",
       "      <td>26.0</td>\n",
       "      <td>38.0</td>\n",
       "      <td>30.0</td>\n",
       "      <td>1007.6</td>\n",
       "      <td>1008.7</td>\n",
       "      <td>21.0</td>\n",
       "      <td>23.2</td>\n",
       "      <td>0.0</td>\n",
       "      <td>No</td>\n",
       "    </tr>\n",
       "    <tr>\n",
       "      <th>3</th>\n",
       "      <td>9.2</td>\n",
       "      <td>28.0</td>\n",
       "      <td>0.0</td>\n",
       "      <td>24.0</td>\n",
       "      <td>11.0</td>\n",
       "      <td>9.0</td>\n",
       "      <td>45.0</td>\n",
       "      <td>16.0</td>\n",
       "      <td>1017.6</td>\n",
       "      <td>1012.8</td>\n",
       "      <td>18.1</td>\n",
       "      <td>26.5</td>\n",
       "      <td>1.0</td>\n",
       "      <td>No</td>\n",
       "    </tr>\n",
       "    <tr>\n",
       "      <th>4</th>\n",
       "      <td>17.5</td>\n",
       "      <td>32.3</td>\n",
       "      <td>1.0</td>\n",
       "      <td>41.0</td>\n",
       "      <td>7.0</td>\n",
       "      <td>20.0</td>\n",
       "      <td>82.0</td>\n",
       "      <td>33.0</td>\n",
       "      <td>1010.8</td>\n",
       "      <td>1006.0</td>\n",
       "      <td>17.8</td>\n",
       "      <td>29.7</td>\n",
       "      <td>0.2</td>\n",
       "      <td>No</td>\n",
       "    </tr>\n",
       "  </tbody>\n",
       "</table>\n",
       "</div>"
      ],
      "text/plain": [
       "   MinTemp  MaxTemp  Rainfall  WindGustSpeed  WindSpeed9am  WindSpeed3pm  \\\n",
       "0     13.4     22.9       0.6           44.0          20.0          24.0   \n",
       "1      7.4     25.1       0.0           44.0           4.0          22.0   \n",
       "2     12.9     25.7       0.0           46.0          19.0          26.0   \n",
       "3      9.2     28.0       0.0           24.0          11.0           9.0   \n",
       "4     17.5     32.3       1.0           41.0           7.0          20.0   \n",
       "\n",
       "   Humidity9am  Humidity3pm  Pressure9am  Pressure3pm  Temp9am  Temp3pm  \\\n",
       "0         71.0         22.0       1007.7       1007.1     16.9     21.8   \n",
       "1         44.0         25.0       1010.6       1007.8     17.2     24.3   \n",
       "2         38.0         30.0       1007.6       1008.7     21.0     23.2   \n",
       "3         45.0         16.0       1017.6       1012.8     18.1     26.5   \n",
       "4         82.0         33.0       1010.8       1006.0     17.8     29.7   \n",
       "\n",
       "   RISK_MM RainTomorrow  \n",
       "0      0.0           No  \n",
       "1      0.0           No  \n",
       "2      0.0           No  \n",
       "3      1.0           No  \n",
       "4      0.2           No  "
      ]
     },
     "execution_count": 80,
     "metadata": {},
     "output_type": "execute_result"
    }
   ],
   "source": [
    "Data.head(5)"
   ]
  },
  {
   "cell_type": "code",
   "execution_count": 101,
   "metadata": {},
   "outputs": [],
   "source": [
    "X = Data.drop(['Rainfall','RISK_MM','RainTomorrow'], axis=1)\n",
    "Y = Data['RainTomorrow']\n",
    "\n",
    "X= X.fillna(method= 'ffill')\n",
    "X= X.dropna()"
   ]
  },
  {
   "cell_type": "code",
   "execution_count": 102,
   "metadata": {},
   "outputs": [],
   "source": [
    "X =sm.add_constant(data =X)"
   ]
  },
  {
   "cell_type": "code",
   "execution_count": 103,
   "metadata": {},
   "outputs": [
    {
     "data": {
      "text/plain": [
       "(142193, 12)"
      ]
     },
     "execution_count": 103,
     "metadata": {},
     "output_type": "execute_result"
    }
   ],
   "source": [
    "X.shape"
   ]
  },
  {
   "cell_type": "code",
   "execution_count": 104,
   "metadata": {},
   "outputs": [
    {
     "data": {
      "text/plain": [
       "(142193,)"
      ]
     },
     "execution_count": 104,
     "metadata": {},
     "output_type": "execute_result"
    }
   ],
   "source": [
    "Y.shape"
   ]
  },
  {
   "cell_type": "code",
   "execution_count": 118,
   "metadata": {},
   "outputs": [],
   "source": [
    "Y = Y.astype('category')"
   ]
  },
  {
   "cell_type": "code",
   "execution_count": 185,
   "metadata": {},
   "outputs": [
    {
     "data": {
      "text/plain": [
       "(142193,)"
      ]
     },
     "execution_count": 185,
     "metadata": {},
     "output_type": "execute_result"
    }
   ],
   "source": [
    "Y = pd.get_dummies(data=Y, drop_first = True).iloc[:,0]\n",
    "Y.shape"
   ]
  },
  {
   "cell_type": "code",
   "execution_count": 169,
   "metadata": {},
   "outputs": [
    {
     "data": {
      "text/html": [
       "<table class=\"simpletable\">\n",
       "<caption>Generalized Linear Model Regression Results</caption>\n",
       "<tr>\n",
       "  <th>Dep. Variable:</th>          <td>Yes</td>       <th>  No. Observations:  </th>   <td>142193</td>  \n",
       "</tr>\n",
       "<tr>\n",
       "  <th>Model:</th>                  <td>GLM</td>       <th>  Df Residuals:      </th>   <td>142181</td>  \n",
       "</tr>\n",
       "<tr>\n",
       "  <th>Model Family:</th>        <td>Binomial</td>     <th>  Df Model:          </th>   <td>    11</td>  \n",
       "</tr>\n",
       "<tr>\n",
       "  <th>Link Function:</th>         <td>Logit</td>      <th>  Scale:             </th>  <td>  1.0000</td> \n",
       "</tr>\n",
       "<tr>\n",
       "  <th>Method:</th>                <td>IRLS</td>       <th>  Log-Likelihood:    </th>  <td> -54537.</td> \n",
       "</tr>\n",
       "<tr>\n",
       "  <th>Date:</th>            <td>Thu, 19 Oct 2023</td> <th>  Deviance:          </th> <td>1.0907e+05</td>\n",
       "</tr>\n",
       "<tr>\n",
       "  <th>Time:</th>                <td>10:55:12</td>     <th>  Pearson chi2:      </th>  <td>1.72e+05</td> \n",
       "</tr>\n",
       "<tr>\n",
       "  <th>No. Iterations:</th>          <td>6</td>        <th>  Pseudo R-squ. (CS):</th>   <td>0.2571</td>  \n",
       "</tr>\n",
       "<tr>\n",
       "  <th>Covariance Type:</th>     <td>nonrobust</td>    <th>                     </th>      <td> </td>    \n",
       "</tr>\n",
       "</table>\n",
       "<table class=\"simpletable\">\n",
       "<tr>\n",
       "        <td></td>           <th>coef</th>     <th>std err</th>      <th>z</th>      <th>P>|z|</th>  <th>[0.025</th>    <th>0.975]</th>  \n",
       "</tr>\n",
       "<tr>\n",
       "  <th>const</th>         <td>   60.0118</td> <td>    1.358</td> <td>   44.207</td> <td> 0.000</td> <td>   57.351</td> <td>   62.672</td>\n",
       "</tr>\n",
       "<tr>\n",
       "  <th>MinTemp</th>       <td>    0.0506</td> <td>    0.004</td> <td>   12.911</td> <td> 0.000</td> <td>    0.043</td> <td>    0.058</td>\n",
       "</tr>\n",
       "<tr>\n",
       "  <th>MaxTemp</th>       <td>   -0.0372</td> <td>    0.006</td> <td>   -6.284</td> <td> 0.000</td> <td>   -0.049</td> <td>   -0.026</td>\n",
       "</tr>\n",
       "<tr>\n",
       "  <th>WindGustSpeed</th> <td>    0.0499</td> <td>    0.001</td> <td>   59.787</td> <td> 0.000</td> <td>    0.048</td> <td>    0.052</td>\n",
       "</tr>\n",
       "<tr>\n",
       "  <th>WindSpeed9am</th>  <td>   -0.0092</td> <td>    0.001</td> <td>   -7.949</td> <td> 0.000</td> <td>   -0.012</td> <td>   -0.007</td>\n",
       "</tr>\n",
       "<tr>\n",
       "  <th>WindSpeed3pm</th>  <td>   -0.0241</td> <td>    0.001</td> <td>  -21.176</td> <td> 0.000</td> <td>   -0.026</td> <td>   -0.022</td>\n",
       "</tr>\n",
       "<tr>\n",
       "  <th>Humidity9am</th>   <td>    0.0132</td> <td>    0.001</td> <td>   16.703</td> <td> 0.000</td> <td>    0.012</td> <td>    0.015</td>\n",
       "</tr>\n",
       "<tr>\n",
       "  <th>Humidity3pm</th>   <td>    0.0507</td> <td>    0.001</td> <td>   61.075</td> <td> 0.000</td> <td>    0.049</td> <td>    0.052</td>\n",
       "</tr>\n",
       "<tr>\n",
       "  <th>Pressure9am</th>   <td>    0.1016</td> <td>    0.004</td> <td>   23.736</td> <td> 0.000</td> <td>    0.093</td> <td>    0.110</td>\n",
       "</tr>\n",
       "<tr>\n",
       "  <th>Pressure3pm</th>   <td>   -0.1668</td> <td>    0.004</td> <td>  -38.303</td> <td> 0.000</td> <td>   -0.175</td> <td>   -0.158</td>\n",
       "</tr>\n",
       "<tr>\n",
       "  <th>Temp9am</th>       <td>    0.0228</td> <td>    0.006</td> <td>    3.848</td> <td> 0.000</td> <td>    0.011</td> <td>    0.034</td>\n",
       "</tr>\n",
       "<tr>\n",
       "  <th>Temp3pm</th>       <td>   -0.0376</td> <td>    0.006</td> <td>   -5.916</td> <td> 0.000</td> <td>   -0.050</td> <td>   -0.025</td>\n",
       "</tr>\n",
       "</table>"
      ],
      "text/plain": [
       "<class 'statsmodels.iolib.summary.Summary'>\n",
       "\"\"\"\n",
       "                 Generalized Linear Model Regression Results                  \n",
       "==============================================================================\n",
       "Dep. Variable:                    Yes   No. Observations:               142193\n",
       "Model:                            GLM   Df Residuals:                   142181\n",
       "Model Family:                Binomial   Df Model:                           11\n",
       "Link Function:                  Logit   Scale:                          1.0000\n",
       "Method:                          IRLS   Log-Likelihood:                -54537.\n",
       "Date:                Thu, 19 Oct 2023   Deviance:                   1.0907e+05\n",
       "Time:                        10:55:12   Pearson chi2:                 1.72e+05\n",
       "No. Iterations:                     6   Pseudo R-squ. (CS):             0.2571\n",
       "Covariance Type:            nonrobust                                         \n",
       "=================================================================================\n",
       "                    coef    std err          z      P>|z|      [0.025      0.975]\n",
       "---------------------------------------------------------------------------------\n",
       "const            60.0118      1.358     44.207      0.000      57.351      62.672\n",
       "MinTemp           0.0506      0.004     12.911      0.000       0.043       0.058\n",
       "MaxTemp          -0.0372      0.006     -6.284      0.000      -0.049      -0.026\n",
       "WindGustSpeed     0.0499      0.001     59.787      0.000       0.048       0.052\n",
       "WindSpeed9am     -0.0092      0.001     -7.949      0.000      -0.012      -0.007\n",
       "WindSpeed3pm     -0.0241      0.001    -21.176      0.000      -0.026      -0.022\n",
       "Humidity9am       0.0132      0.001     16.703      0.000       0.012       0.015\n",
       "Humidity3pm       0.0507      0.001     61.075      0.000       0.049       0.052\n",
       "Pressure9am       0.1016      0.004     23.736      0.000       0.093       0.110\n",
       "Pressure3pm      -0.1668      0.004    -38.303      0.000      -0.175      -0.158\n",
       "Temp9am           0.0228      0.006      3.848      0.000       0.011       0.034\n",
       "Temp3pm          -0.0376      0.006     -5.916      0.000      -0.050      -0.025\n",
       "=================================================================================\n",
       "\"\"\""
      ]
     },
     "execution_count": 169,
     "metadata": {},
     "output_type": "execute_result"
    }
   ],
   "source": [
    "X = X.fillna(method='ffill')\n",
    "X = X.dropna()                                                 # Or remove the NaNs\n",
    "logistic_model = sm.GLM(Y, X, family=sm.families.Binomial())\n",
    "logistic_model = logistic_model.fit()\n",
    "\n",
    "logistic_model.summary()    "
   ]
  },
  {
   "cell_type": "code",
   "execution_count": 181,
   "metadata": {},
   "outputs": [],
   "source": [
    "p_pred = logistic_model.predict(X) #intresting notion, Model gives us probability predctions by default we have to inverse the sigmoid function for predicted values"
   ]
  },
  {
   "cell_type": "code",
   "execution_count": 182,
   "metadata": {},
   "outputs": [],
   "source": [
    "y_pred = np.log(p_pred / (1 - p_pred)) # we know that for prob = 1/(1+exp(-y)), we inverse this to get y_pred from p-pred"
   ]
  },
  {
   "cell_type": "code",
   "execution_count": 184,
   "metadata": {},
   "outputs": [
    {
     "data": {
      "text/plain": [
       "[<matplotlib.lines.Line2D at 0x1e0211d5c40>]"
      ]
     },
     "execution_count": 184,
     "metadata": {},
     "output_type": "execute_result"
    },
    {
     "data": {
      "image/png": "[encoded data removed]",
      "text/plain": [
       "<Figure size 640x480 with 1 Axes>"
      ]
     },
     "metadata": {},
     "output_type": "display_data"
    }
   ],
   "source": [
    "plt.plot(y_pred,p_pred,'.')"
   ]
  },
  {
   "cell_type": "markdown",
   "metadata": {},
   "source": [
    "#### Mathmatical Approach for y-predM and p_predM"
   ]
  },
  {
   "cell_type": "code",
   "execution_count": 190,
   "metadata": {},
   "outputs": [
    {
     "data": {
      "text/plain": [
       "array([ 6.00118156e+01,  5.05872063e-02, -3.72297277e-02,  4.99375263e-02,\n",
       "       -9.23992501e-03, -2.40742026e-02,  1.31985451e-02,  5.07380767e-02,\n",
       "        1.01581376e-01, -1.66807879e-01,  2.27760727e-02, -3.75612210e-02])"
      ]
     },
     "execution_count": 190,
     "metadata": {},
     "output_type": "execute_result"
    }
   ],
   "source": [
    "coffes = logistic_model.params.values\n",
    "coffes"
   ]
  },
  {
   "cell_type": "code",
   "execution_count": 191,
   "metadata": {},
   "outputs": [],
   "source": [
    "y_predM = np.dot(X,coffes)"
   ]
  },
  {
   "cell_type": "code",
   "execution_count": 192,
   "metadata": {},
   "outputs": [],
   "source": [
    "#calculating Probability function\n",
    "\n",
    "p_predM = 1/(1+np.exp(-y_predM))"
   ]
  },
  {
   "cell_type": "code",
   "execution_count": 193,
   "metadata": {},
   "outputs": [
    {
     "data": {
      "text/plain": [
       "[<matplotlib.lines.Line2D at 0x1e021266e20>]"
      ]
     },
     "execution_count": 193,
     "metadata": {},
     "output_type": "execute_result"
    },
    {
     "data": {
      "image/png": "[encoded data removed]",
      "text/plain": [
       "<Figure size 640x480 with 1 Axes>"
      ]
     },
     "metadata": {},
     "output_type": "display_data"
    }
   ],
   "source": [
    "plt.plot(y_predM,p_predM,'.')"
   ]
  },
  {
   "cell_type": "code",
   "execution_count": 200,
   "metadata": {},
   "outputs": [
    {
     "data": {
      "text/plain": [
       "0.19941909939307842"
      ]
     },
     "execution_count": 200,
     "metadata": {},
     "output_type": "execute_result"
    }
   ],
   "source": [
    "sum((abs(p_pred-0.5) <0.2)*1)/len(y_pred)    ## 20% of values are between 0.3 and 0.7. we can say anything above 0.7 is yes, below 0.3 is no, 20% is where we have to improve our model."
   ]
  },
  {
   "cell_type": "code",
   "execution_count": 222,
   "metadata": {},
   "outputs": [],
   "source": [
    "## comparing with Maximum Likely-hoodof NUll mode to Model"
   ]
  },
  {
   "cell_type": "code",
   "execution_count": 224,
   "metadata": {},
   "outputs": [
    {
     "name": "stdout",
     "output_type": "stream",
     "text": [
      "-75667.90234328121\n"
     ]
    }
   ],
   "source": [
    "len(Y)\n",
    "zeros = abs(Y.sum() - len(Y))\n",
    "ones = Y.sum()\n",
    "p = ones/len(Y)\n",
    "MLH = ones*np.log(p)+zeros*np.log(1-p)\n",
    "\n",
    "print(MLH)"
   ]
  },
  {
   "cell_type": "code",
   "execution_count": 230,
   "metadata": {},
   "outputs": [
    {
     "name": "stdout",
     "output_type": "stream",
     "text": [
      "-54537.0334256612\n"
     ]
    }
   ],
   "source": [
    "LF = logistic_model.llf ## for our model\n",
    "print(LF)"
   ]
  },
  {
   "cell_type": "code",
   "execution_count": 233,
   "metadata": {},
   "outputs": [
    {
     "data": {
      "text/plain": [
       "42261.73783524003"
      ]
     },
     "execution_count": 233,
     "metadata": {},
     "output_type": "execute_result"
    }
   ],
   "source": [
    "# using chi-square test we'll compare LLF of two model to compare the improvements \n",
    "\n",
    "\n",
    "G = 2*(LF - MLH)\n",
    "G"
   ]
  },
  {
   "cell_type": "code",
   "execution_count": null,
   "metadata": {},
   "outputs": [],
   "source": [
    "#using chi-Square table we find Chi-stat as 19.67 as min improvement, we have lot more than that our G = 42261.73 that our improvement. Our model has improved but is it enough with a bised data?"
   ]
  },
  {
   "cell_type": "markdown",
   "metadata": {},
   "source": [
    "#### ROC curve"
   ]
  },
  {
   "cell_type": "code",
   "execution_count": 238,
   "metadata": {},
   "outputs": [],
   "source": [
    "# 1. we can see area under ROC curve, To check we should know Type one and Type Two error's\n",
    "# 2. To find type 1, type 2 error's we should find TPR, FPR and we need confusion matrix and we should find TP,FP, TN, FN"
   ]
  },
  {
   "cell_type": "code",
   "execution_count": 241,
   "metadata": {},
   "outputs": [],
   "source": [
    "from sklearn import metrics"
   ]
  },
  {
   "cell_type": "code",
   "execution_count": 264,
   "metadata": {},
   "outputs": [
    {
     "name": "stdout",
     "output_type": "stream",
     "text": [
      "\n",
      "The Area Under the ROC Curve is :  0.8426343654186126\n"
     ]
    },
    {
     "data": {
      "image/png": "[encoded data removed]",
      "text/plain": [
       "<Figure size 640x480 with 1 Axes>"
      ]
     },
     "metadata": {},
     "output_type": "display_data"
    }
   ],
   "source": [
    "from sklearn import metrics\n",
    "fpr, tpr, thresholds = metrics.roc_curve(Y,p_pred);\n",
    "plt.plot([0, 1], [0, 1], 'k--');\n",
    "plt.plot(fpr, tpr);\n",
    "plt.xlabel('False Positive Rate = 1 - Specificity')\n",
    "plt.ylabel('True Positive Rate = Sensitivity')\n",
    "print('\\nThe Area Under the ROC Curve is : ', metrics.auc(fpr,tpr))"
   ]
  },
  {
   "cell_type": "code",
   "execution_count": 275,
   "metadata": {},
   "outputs": [
    {
     "name": "stdout",
     "output_type": "stream",
     "text": [
      "8250.844872910548\n",
      "21807.018540013174\n"
     ]
    }
   ],
   "source": [
    "print(fpr.sum())\n",
    "print(tpr.sum())"
   ]
  },
  {
   "cell_type": "code",
   "execution_count": 293,
   "metadata": {},
   "outputs": [
    {
     "name": "stdout",
     "output_type": "stream",
     "text": [
      "Accuracy =  0.8372634377219694\n",
      "Precision =  0.7205088082378477\n",
      "Recall =  0.4477836684757035\n",
      "F1 =  0.5523138832997988\n"
     ]
    }
   ],
   "source": [
    "print('Accuracy = ', metrics.accuracy_score(true_class,pred_class))\n",
    "print('Precision = ', metrics.precision_score(true_class,pred_class))\n",
    "print('Recall = ', metrics.recall_score(true_class,pred_class))\n",
    "print('F1 = ', metrics.f1_score(true_class,pred_class))"
   ]
  },
  {
   "cell_type": "code",
   "execution_count": 295,
   "metadata": {},
   "outputs": [
    {
     "name": "stdout",
     "output_type": "stream",
     "text": [
      "5537.0\n",
      "14274.0\n"
     ]
    }
   ],
   "source": [
    "print(FPR.sum())\n",
    "print(TPR.sum())"
   ]
  },
  {
   "cell_type": "code",
   "execution_count": 289,
   "metadata": {},
   "outputs": [],
   "source": [
    "true_class = Y\n",
    "pred_class = 1*(p_pred > 0.5)\n",
    "\n",
    "TP = 1*((true_class == 1) & (pred_class ==1))\n",
    "FP = 1*((true_class == 0) & (pred_class ==1))\n",
    "TN = 1*((true_class == 0) & (pred_class ==0))\n",
    "FN = 1*((true_class == 1) & (pred_class ==0))"
   ]
  },
  {
   "cell_type": "code",
   "execution_count": 290,
   "metadata": {},
   "outputs": [],
   "source": [
    "TPR = TP/(TP+FN) # typeII error (sensitivity)\n",
    "TNR = TN/(TN+FP) # specificity  \n",
    "FPR = TNR # Type II error\n"
   ]
  },
  {
   "cell_type": "code",
   "execution_count": 291,
   "metadata": {},
   "outputs": [],
   "source": [
    "threshold = np.sum(1*(Y==1))/len(Y) "
   ]
  },
  {
   "cell_type": "markdown",
   "metadata": {},
   "source": [
    "### Comparing with Nural Network Model similar to logistic Regression"
   ]
  },
  {
   "cell_type": "code",
   "execution_count": 307,
   "metadata": {},
   "outputs": [],
   "source": [
    "import tensorflow as tf\n",
    "import tensorflow.keras as K\n",
    "from tensorflow.keras import models\n",
    "from tensorflow.keras import layers\n",
    "from tensorflow.keras import activations\n",
    "from tensorflow.keras.regularizers import l1\n",
    "from sklearn.preprocessing import MinMaxScaler\n",
    "from tensorflow.keras import backend as K"
   ]
  },
  {
   "cell_type": "code",
   "execution_count": 301,
   "metadata": {},
   "outputs": [
    {
     "data": {
      "text/html": [
       "<div>\n",
       "<style scoped>\n",
       "    .dataframe tbody tr th:only-of-type {\n",
       "        vertical-align: middle;\n",
       "    }\n",
       "\n",
       "    .dataframe tbody tr th {\n",
       "        vertical-align: top;\n",
       "    }\n",
       "\n",
       "    .dataframe thead th {\n",
       "        text-align: right;\n",
       "    }\n",
       "</style>\n",
       "<table border=\"1\" class=\"dataframe\">\n",
       "  <thead>\n",
       "    <tr style=\"text-align: right;\">\n",
       "      <th></th>\n",
       "      <th>MinTemp</th>\n",
       "      <th>MaxTemp</th>\n",
       "      <th>Rainfall</th>\n",
       "      <th>WindGustSpeed</th>\n",
       "      <th>WindSpeed9am</th>\n",
       "      <th>WindSpeed3pm</th>\n",
       "      <th>Humidity9am</th>\n",
       "      <th>Humidity3pm</th>\n",
       "      <th>Pressure9am</th>\n",
       "      <th>Pressure3pm</th>\n",
       "      <th>Temp9am</th>\n",
       "      <th>Temp3pm</th>\n",
       "      <th>RISK_MM</th>\n",
       "      <th>RainTomorrow</th>\n",
       "    </tr>\n",
       "  </thead>\n",
       "  <tbody>\n",
       "    <tr>\n",
       "      <th>0</th>\n",
       "      <td>13.4</td>\n",
       "      <td>22.9</td>\n",
       "      <td>0.6</td>\n",
       "      <td>44.0</td>\n",
       "      <td>20.0</td>\n",
       "      <td>24.0</td>\n",
       "      <td>71.0</td>\n",
       "      <td>22.0</td>\n",
       "      <td>1007.7</td>\n",
       "      <td>1007.1</td>\n",
       "      <td>16.9</td>\n",
       "      <td>21.8</td>\n",
       "      <td>0.0</td>\n",
       "      <td>No</td>\n",
       "    </tr>\n",
       "    <tr>\n",
       "      <th>1</th>\n",
       "      <td>7.4</td>\n",
       "      <td>25.1</td>\n",
       "      <td>0.0</td>\n",
       "      <td>44.0</td>\n",
       "      <td>4.0</td>\n",
       "      <td>22.0</td>\n",
       "      <td>44.0</td>\n",
       "      <td>25.0</td>\n",
       "      <td>1010.6</td>\n",
       "      <td>1007.8</td>\n",
       "      <td>17.2</td>\n",
       "      <td>24.3</td>\n",
       "      <td>0.0</td>\n",
       "      <td>No</td>\n",
       "    </tr>\n",
       "    <tr>\n",
       "      <th>2</th>\n",
       "      <td>12.9</td>\n",
       "      <td>25.7</td>\n",
       "      <td>0.0</td>\n",
       "      <td>46.0</td>\n",
       "      <td>19.0</td>\n",
       "      <td>26.0</td>\n",
       "      <td>38.0</td>\n",
       "      <td>30.0</td>\n",
       "      <td>1007.6</td>\n",
       "      <td>1008.7</td>\n",
       "      <td>21.0</td>\n",
       "      <td>23.2</td>\n",
       "      <td>0.0</td>\n",
       "      <td>No</td>\n",
       "    </tr>\n",
       "    <tr>\n",
       "      <th>3</th>\n",
       "      <td>9.2</td>\n",
       "      <td>28.0</td>\n",
       "      <td>0.0</td>\n",
       "      <td>24.0</td>\n",
       "      <td>11.0</td>\n",
       "      <td>9.0</td>\n",
       "      <td>45.0</td>\n",
       "      <td>16.0</td>\n",
       "      <td>1017.6</td>\n",
       "      <td>1012.8</td>\n",
       "      <td>18.1</td>\n",
       "      <td>26.5</td>\n",
       "      <td>1.0</td>\n",
       "      <td>No</td>\n",
       "    </tr>\n",
       "    <tr>\n",
       "      <th>4</th>\n",
       "      <td>17.5</td>\n",
       "      <td>32.3</td>\n",
       "      <td>1.0</td>\n",
       "      <td>41.0</td>\n",
       "      <td>7.0</td>\n",
       "      <td>20.0</td>\n",
       "      <td>82.0</td>\n",
       "      <td>33.0</td>\n",
       "      <td>1010.8</td>\n",
       "      <td>1006.0</td>\n",
       "      <td>17.8</td>\n",
       "      <td>29.7</td>\n",
       "      <td>0.2</td>\n",
       "      <td>No</td>\n",
       "    </tr>\n",
       "  </tbody>\n",
       "</table>\n",
       "</div>"
      ],
      "text/plain": [
       "   MinTemp  MaxTemp  Rainfall  WindGustSpeed  WindSpeed9am  WindSpeed3pm  \\\n",
       "0     13.4     22.9       0.6           44.0          20.0          24.0   \n",
       "1      7.4     25.1       0.0           44.0           4.0          22.0   \n",
       "2     12.9     25.7       0.0           46.0          19.0          26.0   \n",
       "3      9.2     28.0       0.0           24.0          11.0           9.0   \n",
       "4     17.5     32.3       1.0           41.0           7.0          20.0   \n",
       "\n",
       "   Humidity9am  Humidity3pm  Pressure9am  Pressure3pm  Temp9am  Temp3pm  \\\n",
       "0         71.0         22.0       1007.7       1007.1     16.9     21.8   \n",
       "1         44.0         25.0       1010.6       1007.8     17.2     24.3   \n",
       "2         38.0         30.0       1007.6       1008.7     21.0     23.2   \n",
       "3         45.0         16.0       1017.6       1012.8     18.1     26.5   \n",
       "4         82.0         33.0       1010.8       1006.0     17.8     29.7   \n",
       "\n",
       "   RISK_MM RainTomorrow  \n",
       "0      0.0           No  \n",
       "1      0.0           No  \n",
       "2      0.0           No  \n",
       "3      1.0           No  \n",
       "4      0.2           No  "
      ]
     },
     "execution_count": 301,
     "metadata": {},
     "output_type": "execute_result"
    }
   ],
   "source": [
    "data = pd.read_csv(r\"D:\\Multi-Variant\\Logistic regression\\weatherAUS.csv\")\n",
    "data.head()"
   ]
  },
  {
   "cell_type": "code",
   "execution_count": 324,
   "metadata": {},
   "outputs": [],
   "source": [
    "X = data.drop(['RainTomorrow','RISK_MM','Rainfall'],axis=1)\n",
    "X = X.ffill()\n",
    "Y= data['RainTomorrow']\n",
    "Y = Y.astype('category')\n",
    "Y = pd.get_dummies(Y, drop_first = True).iloc[:,0]\n"
   ]
  },
  {
   "cell_type": "code",
   "execution_count": 319,
   "metadata": {},
   "outputs": [
    {
     "data": {
      "text/plain": [
       "(142193, 13)"
      ]
     },
     "execution_count": 319,
     "metadata": {},
     "output_type": "execute_result"
    }
   ],
   "source": [
    "x_tr = X\n",
    "y_tr = pd.DataFrame(Y)\n",
    "\n",
    "X.shape"
   ]
  },
  {
   "cell_type": "code",
   "execution_count": 341,
   "metadata": {},
   "outputs": [],
   "source": [
    "# Model Arcitecture "
   ]
  },
  {
   "cell_type": "code",
   "execution_count": 366,
   "metadata": {},
   "outputs": [],
   "source": [
    "x = layers.Input(shape=(X.shape[1]), name = 'X')\n",
    "\n",
    "\n",
    "#h= layers.Dense(units= 600,activation ='tanh' ,kernel_regularizer =l1(0.001), name ='h') (x)\n",
    "#h= layers.Dropout(0.2)(h)\n",
    "p= layers.Dense(units=1, kernel_regularizer =l1(0.001) , activation ='sigmoid', name='p')(x)       ## adding Kernal_regularization is lasso,rigid regresion (l1/l2)\n",
    "\n",
    "\n",
    "network = models.Model(inputs=[x],outputs=[p])"
   ]
  },
  {
   "cell_type": "code",
   "execution_count": 367,
   "metadata": {},
   "outputs": [
    {
     "name": "stdout",
     "output_type": "stream",
     "text": [
      "Model: \"model_18\"\n",
      "_________________________________________________________________\n",
      " Layer (type)                Output Shape              Param #   \n",
      "=================================================================\n",
      " X (InputLayer)              [(None, 11)]              0         \n",
      "                                                                 \n",
      " p (Dense)                   (None, 1)                 12        \n",
      "                                                                 \n",
      "=================================================================\n",
      "Total params: 12\n",
      "Trainable params: 12\n",
      "Non-trainable params: 0\n",
      "_________________________________________________________________\n"
     ]
    }
   ],
   "source": [
    "network.summary()"
   ]
  },
  {
   "cell_type": "code",
   "execution_count": 368,
   "metadata": {},
   "outputs": [],
   "source": [
    "# model compiling and Training"
   ]
  },
  {
   "cell_type": "code",
   "execution_count": 369,
   "metadata": {},
   "outputs": [
    {
     "name": "stdout",
     "output_type": "stream",
     "text": [
      "Epoch 1/10\n",
      "2222/2222 - 2s - loss: 1.2261 - acc: 0.7450 - 2s/epoch - 756us/step\n",
      "Epoch 2/10\n",
      "2222/2222 - 1s - loss: 0.4762 - acc: 0.8045 - 1s/epoch - 612us/step\n",
      "Epoch 3/10\n",
      "2222/2222 - 1s - loss: 0.4542 - acc: 0.8107 - 1s/epoch - 615us/step\n",
      "Epoch 4/10\n",
      "2222/2222 - 1s - loss: 0.4419 - acc: 0.8147 - 1s/epoch - 610us/step\n",
      "Epoch 5/10\n",
      "2222/2222 - 1s - loss: 0.4353 - acc: 0.8169 - 1s/epoch - 617us/step\n",
      "Epoch 6/10\n",
      "2222/2222 - 1s - loss: 0.4313 - acc: 0.8184 - 1s/epoch - 618us/step\n",
      "Epoch 7/10\n",
      "2222/2222 - 1s - loss: 0.4277 - acc: 0.8189 - 1s/epoch - 606us/step\n",
      "Epoch 8/10\n",
      "2222/2222 - 1s - loss: 0.4250 - acc: 0.8208 - 1s/epoch - 596us/step\n",
      "Epoch 9/10\n",
      "2222/2222 - 1s - loss: 0.4240 - acc: 0.8209 - 1s/epoch - 597us/step\n",
      "Epoch 10/10\n",
      "2222/2222 - 1s - loss: 0.4207 - acc: 0.8225 - 1s/epoch - 599us/step\n"
     ]
    }
   ],
   "source": [
    "network.compile(loss='binary_crossentropy', \n",
    "                optimizer='Adam', \n",
    "                metrics =['acc'])\n",
    "\n",
    "history = network.fit(X,Y,epochs =10, verbose=2,batch_size=64)"
   ]
  },
  {
   "cell_type": "code",
   "execution_count": 370,
   "metadata": {},
   "outputs": [
    {
     "data": {
      "text/plain": [
       "<tf.Variable 'p/kernel:0' shape=(11, 1) dtype=float32, numpy=\n",
       "array([[-0.01568568],\n",
       "       [-0.11252309],\n",
       "       [ 0.06570761],\n",
       "       [-0.01490198],\n",
       "       [-0.033214  ],\n",
       "       [ 0.0150539 ],\n",
       "       [ 0.06217845],\n",
       "       [-0.11879496],\n",
       "       [ 0.11069535],\n",
       "       [ 0.07807549],\n",
       "       [ 0.09268504]], dtype=float32)>"
      ]
     },
     "execution_count": 370,
     "metadata": {},
     "output_type": "execute_result"
    }
   ],
   "source": [
    "network.layers[1].weights[0]"
   ]
  },
  {
   "cell_type": "markdown",
   "metadata": {},
   "source": [
    "##### We see that our model accuracy is not increasing any more even after doing it on Nural Networks LOGIST-Accy= 83.7 , NN-Accy= 82.72"
   ]
  }
 ],
 "metadata": {
  "kernelspec": {
   "display_name": "base",
   "language": "python",
   "name": "python3"
  },
  "language_info": {
   "codemirror_mode": {
    "name": "ipython",
    "version": 3
   },
   "file_extension": ".py",
   "mimetype": "text/x-python",
   "name": "python",
   "nbconvert_exporter": "python",
   "pygments_lexer": "ipython3",
   "version": "3.9.17"
  }
 },
 "nbformat": 4,
 "nbformat_minor": 2
}
